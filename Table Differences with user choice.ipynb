{
 "cells": [
  {
   "cell_type": "code",
   "execution_count": null,
   "id": "d3908b3c",
   "metadata": {},
   "outputs": [
    {
     "name": "stdout",
     "output_type": "stream",
     "text": [
      "Do you want to print all differences or just a summary?\n"
     ]
    }
   ],
   "source": [
    "import pandas as pd\n",
    "\n",
    "# Load the two tables into DataFrames\n",
    "table1 = pd.read_csv('C:\\\\Users\\\\asus\\\\Downloads\\\\salesdata_withchanges.csv')  # add file path\n",
    "table2 = pd.read_csv('C:\\\\Users\\\\asus\\\\Downloads\\\\US_Regional_Sales_Data.csv')\n",
    "\n",
    "# Find common columns between the two tables\n",
    "common_columns = set(table1.columns) & set(table2.columns)\n",
    "\n",
    "# Prompt the user for their preference\n",
    "print(\"Do you want to print all differences or just a summary?\")\n",
    "user_choice = input(\"Enter 'all' or 'summary': \").lower()\n",
    "\n",
    "# Dictionary to store column differences count\n",
    "column_diff_counts = {}\n",
    "\n",
    "# Dictionary to store null value counts\n",
    "null_value_counts = {}\n",
    "\n",
    "# Compare common columns\n",
    "for column in common_columns:\n",
    "    differences = table1[column] != table2[column]\n",
    "    different_rows = table1[differences]\n",
    "\n",
    "    if not different_rows.empty:\n",
    "        column_diff_counts[column] = len(different_rows)\n",
    "\n",
    "        if user_choice == 'all':\n",
    "            print(f\"Differences in column '{column}':\")\n",
    "            print(\"=\" * 50)\n",
    "            for index, row in different_rows.iterrows():\n",
    "                print(f\"Row {index + 1}:\")\n",
    "                \n",
    "                if pd.isna(row[column]):\n",
    "                    print(f\"Table1: <null>\")\n",
    "                else:\n",
    "                    print(f\"Table1: {row[column]}\")\n",
    "                \n",
    "                if pd.isna(table2.at[index, column]):\n",
    "                    print(f\"Table2: <null>\")\n",
    "                else:\n",
    "                    print(f\"Table2: {table2.at[index, column]}\")\n",
    "                \n",
    "                print(\"-\" * 30)\n",
    "\n",
    "            print(f\"Total Differences in column '{column}': {len(different_rows)}\\n\")\n",
    "    \n",
    "    # Count null values\n",
    "    null_count_table1 = table1[column].isnull().sum()\n",
    "    null_count_table2 = table2[column].isnull().sum()\n",
    "    if null_count_table1 > 0 or null_count_table2 > 0:\n",
    "        null_value_counts[column] = (null_count_table1, null_count_table2)\n",
    "\n",
    "# Identify differing columns\n",
    "columns_only_in_table1 = set(table1.columns) - set(table2.columns)\n",
    "columns_only_in_table2 = set(table2.columns) - set(table1.columns)\n",
    "\n",
    "print(\"Columns only in table1:\", columns_only_in_table1)\n",
    "print(\"Columns only in table2:\", columns_only_in_table2)\n",
    "\n",
    "# Summary of differences\n",
    "if user_choice == 'summary':\n",
    "    if column_diff_counts or null_value_counts:\n",
    "        print(\"Summary of Differences:\")\n",
    "        print(\"=\" * 50)\n",
    "        sorted_columns = sorted(column_diff_counts, key=column_diff_counts.get, reverse=True)\n",
    "        for column in sorted_columns:\n",
    "            diff_count = column_diff_counts.get(column, 0)\n",
    "            null_counts = null_value_counts.get(column, (0, 0))\n",
    "            print(f\"Column '{column}': {diff_count} differences | Nulls: Table1({null_counts[0]}), Table2({null_counts[1]})\")\n",
    "else:\n",
    "    print(\"No differences found.\")\n"
   ]
  },
  {
   "cell_type": "code",
   "execution_count": null,
   "id": "55e400a7",
   "metadata": {},
   "outputs": [],
   "source": []
  }
 ],
 "metadata": {
  "kernelspec": {
   "display_name": "Python 3 (ipykernel)",
   "language": "python",
   "name": "python3"
  },
  "language_info": {
   "codemirror_mode": {
    "name": "ipython",
    "version": 3
   },
   "file_extension": ".py",
   "mimetype": "text/x-python",
   "name": "python",
   "nbconvert_exporter": "python",
   "pygments_lexer": "ipython3",
   "version": "3.10.9"
  }
 },
 "nbformat": 4,
 "nbformat_minor": 5
}
